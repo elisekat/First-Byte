{
 "cells": [
  {
   "cell_type": "code",
   "execution_count": 6,
   "metadata": {},
   "outputs": [],
   "source": [
    "import pandas as pd\n",
    "import plotly.express as px\n",
    "import io\n",
    "\n",
    "df = pd.read_csv(\"cleaned_data.csv\")\n",
    "## print(df)"
   ]
  },
  {
   "cell_type": "code",
   "execution_count": 43,
   "metadata": {},
   "outputs": [
    {
     "name": "stdout",
     "output_type": "stream",
     "text": [
      "The number of items bought in an average transaction is 2.1437\n",
      "The dollars spent in an average transaction is 132.64\n"
     ]
    }
   ],
   "source": [
    "# Key information about typical transactions\n",
    "\n",
    "transactions = df.groupby(\"Transaction_ID\")\n",
    "\n",
    "# Number items bought in a typical transaction\n",
    "eachTransactionQuantity = transactions.sum(\"Quantity\")\n",
    "print(\"The number of items bought in an average transaction is\", \n",
    "      eachTransactionQuantity[\"Quantity\"].mean().round(4))\n",
    "\n",
    "# $ spent in a typical transaction\n",
    "eachTransactionDollarsSpent = transactions.sum(\"Sales_Amount\")\n",
    "print(\"The dollars spent in an average transaction is\",\n",
    "      eachTransactionDollarsSpent[\"Sales_Amount\"].mean().round(2))\n"
   ]
  },
  {
   "cell_type": "code",
   "execution_count": 77,
   "metadata": {},
   "outputs": [
    {
     "data": {
      "text/plain": [
       "Month\n",
       "1.0     4807\n",
       "2.0     4551\n",
       "3.0     5010\n",
       "4.0     5013\n",
       "5.0     5367\n",
       "6.0     4523\n",
       "7.0     4547\n",
       "8.0     4846\n",
       "9.0     5699\n",
       "10.0    5342\n",
       "11.0    5204\n",
       "12.0    5897\n",
       "dtype: int64"
      ]
     },
     "execution_count": 77,
     "metadata": {},
     "output_type": "execute_result"
    }
   ],
   "source": [
    "# Number customers each month and per year\n",
    "\n",
    "# per year\n",
    "\n",
    "## Setup - Group by month\n",
    "df[\"Date\"] = pd.to_datetime(df[\"Date\"], format = 'mixed', errors = 'coerce')\n",
    "df[\"Month\"] = df[\"Date\"].dt.month\n",
    "df.groupby(\"Month\").size()\n",
    "\n"
   ]
  },
  {
   "cell_type": "code",
   "execution_count": null,
   "metadata": {},
   "outputs": [],
   "source": []
  }
 ],
 "metadata": {
  "kernelspec": {
   "display_name": "Python 3",
   "language": "python",
   "name": "python3"
  },
  "language_info": {
   "codemirror_mode": {
    "name": "ipython",
    "version": 3
   },
   "file_extension": ".py",
   "mimetype": "text/x-python",
   "name": "python",
   "nbconvert_exporter": "python",
   "pygments_lexer": "ipython3",
   "version": "3.11.5"
  },
  "orig_nbformat": 4
 },
 "nbformat": 4,
 "nbformat_minor": 2
}
