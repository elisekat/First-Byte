{
 "cells": [
  {
   "cell_type": "code",
   "execution_count": 7,
   "metadata": {},
   "outputs": [],
   "source": [
    "import pandas as pd\n",
    "import numpy as np\n",
    "from scipy import stats"
   ]
  },
  {
   "cell_type": "code",
   "execution_count": 8,
   "metadata": {},
   "outputs": [
    {
     "name": "stdout",
     "output_type": "stream",
     "text": [
      "       Index        Date  Customer_ID  Transaction_ID SKU_Category    SKU  \\\n",
      "0          0  02/01/2022         3686               3        Skirt  CZUZX   \n",
      "1          1  02/01/2022         3719               4        Skirt  549KK   \n",
      "2          2  02/01/2022         9200               5        Skirt  K8EHH   \n",
      "3          3  02/01/2022         1666               7        Shoes  AHZNS   \n",
      "4          4  02/01/2022         1253               8        Skirt  9STQJ   \n",
      "...      ...         ...          ...             ...          ...    ...   \n",
      "61858  61858  04/07/2022        20203           32900          Hat  FO112   \n",
      "61859  61859  04/07/2022        20203           32900      T-shirt  I36F2   \n",
      "61860  61860  04/07/2022        20203           32900       Shorts  4X8P4   \n",
      "61861  61861  04/07/2022        20203           32900        Skirt  ZVTO4   \n",
      "61862  61862  04/07/2022        20203           32900     Crop Top  QM9BP   \n",
      "\n",
      "       Quantity  Sales_Amount  Operational_Cost  Customer_Age  \n",
      "0           1.0          63.5              44.6            51  \n",
      "1           1.0          55.9              41.1            27  \n",
      "2           1.0          68.8              52.6            39  \n",
      "3           1.0          82.1              56.7            39  \n",
      "4           1.0          82.5              58.7            30  \n",
      "...         ...           ...               ...           ...  \n",
      "61858       3.0          64.6              16.4            24  \n",
      "61859       1.0          45.0              32.5            24  \n",
      "61860       1.0          51.9              39.2            24  \n",
      "61861       1.0          45.7              35.9            24  \n",
      "61862       1.0         136.8             115.3            24  \n",
      "\n",
      "[61863 rows x 10 columns]\n"
     ]
    }
   ],
   "source": [
    "df = pd.read_csv(r\"data.csv\")\n",
    "print(df)"
   ]
  },
  {
   "cell_type": "code",
   "execution_count": 16,
   "metadata": {},
   "outputs": [
    {
     "name": "stdout",
     "output_type": "stream",
     "text": [
      "       Index        Date  Customer_ID  Transaction_ID SKU_Category    SKU  \\\n",
      "38704  38704  20/09/2022        14219           45167        Skirt  CZUZX   \n",
      "54833  54833  07/12/2022        12021           59812     Crop Top  1RZSS   \n",
      "42789  42789  08/10/2022        21770           48774        Skirt  CZUZX   \n",
      "47065  47065  28/10/2022        15528           52656        Skirt  CZUZX   \n",
      "49650  49650  12/11/2022        20561           55113        Skirt  UP0YH   \n",
      "...      ...         ...          ...             ...          ...    ...   \n",
      "58860  58860  22/12/2022        17045           63313   Sunglasses  4Y96V   \n",
      "32388  32388  14/08/2022        16622           39011   Sunglasses  CUASB   \n",
      "27735  27735  13/06/2022          174           29334   Sunglasses  CUASB   \n",
      "26161  26161  02/06/2022        20337           27534       Shorts  IYMS1   \n",
      "17397  17397  13/04/2022        17431           17684       Shorts  IYMS1   \n",
      "\n",
      "       Quantity  Sales_Amount  Operational_Cost  Customer_Age  \n",
      "38704       1.0           0.2               0.1            42  \n",
      "54833       1.0           0.2               0.2            33  \n",
      "42789       1.0           0.2               0.1            21  \n",
      "47065       1.0           0.2               0.1            25  \n",
      "49650       1.0           0.2               0.1            34  \n",
      "...         ...           ...               ...           ...  \n",
      "58860       1.0        1942.0            1536.1            59  \n",
      "32388       3.0        1950.9             485.1            36  \n",
      "27735       3.0        1950.9             485.1            47  \n",
      "26161       3.0        2118.3             605.1            33  \n",
      "17397       3.0        2118.3             605.1            39  \n",
      "\n",
      "[61863 rows x 10 columns]\n"
     ]
    }
   ],
   "source": [
    "z_scores = np.abs(stats.zscore(df[\"Sales_Amount\"]))\n",
    "z_threshold = 100\n",
    "\n",
    "outlier_mask = z_scores > z_threshold\n",
    "\n",
    "cleaned_df = df[~outlier_mask]\n",
    "\n",
    "print(cleaned_df.sort_values(\"Sales_Amount\"))"
   ]
  }
 ],
 "metadata": {
  "kernelspec": {
   "display_name": "Python 3",
   "language": "python",
   "name": "python3"
  },
  "language_info": {
   "codemirror_mode": {
    "name": "ipython",
    "version": 3
   },
   "file_extension": ".py",
   "mimetype": "text/x-python",
   "name": "python",
   "nbconvert_exporter": "python",
   "pygments_lexer": "ipython3",
   "version": "3.9.6"
  },
  "orig_nbformat": 4
 },
 "nbformat": 4,
 "nbformat_minor": 2
}
